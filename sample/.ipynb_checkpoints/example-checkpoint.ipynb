{
 "cells": [
  {
   "cell_type": "code",
   "execution_count": 1,
   "metadata": {
    "collapsed": false
   },
   "outputs": [
    {
     "name": "stdout",
     "output_type": "stream",
     "text": [
      "(500, 2)\n",
      "(500,)\n"
     ]
    },
    {
     "name": "stderr",
     "output_type": "stream",
     "text": [
      "Using gpu device 0: GeForce GT 740M\n"
     ]
    },
    {
     "data": {
      "image/png": "[encoded data removed]",
      "text/plain": [
       "<matplotlib.figure.Figure at 0x7f4510aa1f60>"
      ]
     },
     "metadata": {},
     "output_type": "display_data"
    }
   ],
   "source": [
    "import warnings\n",
    "warnings.filterwarnings('ignore')\n",
    "warnings.filterwarnings(\"ignore\",category=DeprecationWarning)\n",
    "\n",
    "from sklearn import datasets\n",
    "from polyssifier import Poly\n",
    "import numpy as np\n",
    "import pandas as pd\n",
    "from sklearn.datasets import make_moons\n",
    "import matplotlib.pyplot as plt \n",
    "\n",
    "%matplotlib inline\n",
    "data, label = make_moons(n_samples=500, noise=0.3)\n",
    "print(data.shape)\n",
    "print(label.shape)\n",
    "\n",
    "plt.plot(data[label==0,0], data[label==0,1],'.');\n",
    "plt.plot(data[label==1,0], data[label==1,1],'r.');"
   ]
  },
  {
   "cell_type": "code",
   "execution_count": 2,
   "metadata": {
    "collapsed": false,
    "scrolled": true
   },
   "outputs": [
    {
     "name": "stderr",
     "output_type": "stream",
     "text": [
      "INFO:polyssifier.polyssifier:Fold 1\n",
      "INFO:polyssifier.polyssifier:Loading models/RBF SVM_1.p\n",
      "INFO:polyssifier.polyssifier:RBF SVM_1 : 0.9411764705882353\n",
      "INFO:polyssifier.polyssifier:Loading models/Random Forest_1.p\n",
      "INFO:polyssifier.polyssifier:Random Forest_1 : 0.9019607843137256\n",
      "INFO:polyssifier.polyssifier:Loading models/Decision Tree_1.p\n",
      "INFO:polyssifier.polyssifier:Decision Tree_1 : 0.96\n",
      "INFO:polyssifier.polyssifier:Loading models/Linear SVM_1.p\n",
      "INFO:polyssifier.polyssifier:Linear SVM_1 : 0.8076923076923077\n",
      "INFO:polyssifier.polyssifier:Loading models/Nearest Neighbors_1.p\n",
      "INFO:polyssifier.polyssifier:Nearest Neighbors_1 : 0.9411764705882353\n",
      "INFO:polyssifier.polyssifier:Loading models/Naive Bayes_1.p\n",
      "INFO:polyssifier.polyssifier:Naive Bayes_1 : 0.830188679245283\n",
      "INFO:polyssifier.polyssifier:Loading models/Logistic Regression_1.p\n",
      "INFO:polyssifier.polyssifier:Logistic Regression_1 : 0.830188679245283\n",
      "INFO:polyssifier.polyssifier:Running Multilayer Perceptron\n",
      "INFO:polyssifier.polyssifier:Multilayer Perceptron_1 : 0.9056603773584904\n",
      "INFO:polyssifier.polyssifier:Running Voting Classifier\n",
      "INFO:polyssifier.polyssifier:Hard Voting_1 : 0.92\n",
      "INFO:polyssifier.polyssifier:Soft Voting_1 : 0.923076923076923\n",
      "INFO:polyssifier.polyssifier:Fold 2\n",
      "INFO:polyssifier.polyssifier:Loading models/RBF SVM_2.p\n",
      "INFO:polyssifier.polyssifier:RBF SVM_2 : 0.9259259259259259\n",
      "INFO:polyssifier.polyssifier:Loading models/Random Forest_2.p\n",
      "INFO:polyssifier.polyssifier:Random Forest_2 : 0.8627450980392156\n",
      "INFO:polyssifier.polyssifier:Loading models/Decision Tree_2.p\n",
      "INFO:polyssifier.polyssifier:Decision Tree_2 : 0.8846153846153846\n",
      "INFO:polyssifier.polyssifier:Loading models/Linear SVM_2.p\n",
      "INFO:polyssifier.polyssifier:Linear SVM_2 : 0.8936170212765958\n",
      "INFO:polyssifier.polyssifier:Loading models/Nearest Neighbors_2.p\n",
      "INFO:polyssifier.polyssifier:Nearest Neighbors_2 : 0.9259259259259259\n",
      "INFO:polyssifier.polyssifier:Loading models/Naive Bayes_2.p\n",
      "INFO:polyssifier.polyssifier:Naive Bayes_2 : 0.8936170212765958\n",
      "INFO:polyssifier.polyssifier:Loading models/Logistic Regression_2.p\n",
      "INFO:polyssifier.polyssifier:Logistic Regression_2 : 0.8936170212765958\n",
      "INFO:polyssifier.polyssifier:Running Multilayer Perceptron\n",
      "INFO:polyssifier.polyssifier:Multilayer Perceptron_2 : 0.8571428571428571\n",
      "INFO:polyssifier.polyssifier:Running Voting Classifier\n",
      "INFO:polyssifier.polyssifier:Hard Voting_2 : 0.8846153846153846\n",
      "INFO:polyssifier.polyssifier:Soft Voting_2 : 0.8846153846153846\n",
      "INFO:polyssifier.polyssifier:Fold 3\n",
      "INFO:polyssifier.polyssifier:Loading models/RBF SVM_3.p\n",
      "INFO:polyssifier.polyssifier:RBF SVM_3 : 0.9387755102040817\n",
      "INFO:polyssifier.polyssifier:Loading models/Random Forest_3.p\n",
      "INFO:polyssifier.polyssifier:Random Forest_3 : 0.92\n",
      "INFO:polyssifier.polyssifier:Loading models/Decision Tree_3.p\n",
      "INFO:polyssifier.polyssifier:Decision Tree_3 : 0.92\n",
      "INFO:polyssifier.polyssifier:Loading models/Linear SVM_3.p\n",
      "INFO:polyssifier.polyssifier:Linear SVM_3 : 0.8571428571428572\n",
      "INFO:polyssifier.polyssifier:Loading models/Nearest Neighbors_3.p\n",
      "INFO:polyssifier.polyssifier:Nearest Neighbors_3 : 0.9387755102040817\n",
      "INFO:polyssifier.polyssifier:Loading models/Naive Bayes_3.p\n",
      "INFO:polyssifier.polyssifier:Naive Bayes_3 : 0.8571428571428572\n",
      "INFO:polyssifier.polyssifier:Loading models/Logistic Regression_3.p\n",
      "INFO:polyssifier.polyssifier:Logistic Regression_3 : 0.8571428571428572\n",
      "INFO:polyssifier.polyssifier:Running Multilayer Perceptron\n",
      "INFO:polyssifier.polyssifier:Multilayer Perceptron_3 : 0.9387755102040817\n",
      "INFO:polyssifier.polyssifier:Running Voting Classifier\n",
      "INFO:polyssifier.polyssifier:Hard Voting_3 : 0.92\n",
      "INFO:polyssifier.polyssifier:Soft Voting_3 : 0.9411764705882353\n",
      "INFO:polyssifier.polyssifier:Fold 4\n",
      "INFO:polyssifier.polyssifier:Loading models/RBF SVM_4.p\n",
      "INFO:polyssifier.polyssifier:RBF SVM_4 : 0.9019607843137256\n",
      "INFO:polyssifier.polyssifier:Loading models/Random Forest_4.p\n",
      "INFO:polyssifier.polyssifier:Random Forest_4 : 0.88\n",
      "INFO:polyssifier.polyssifier:Loading models/Decision Tree_4.p\n",
      "INFO:polyssifier.polyssifier:Decision Tree_4 : 0.88\n",
      "INFO:polyssifier.polyssifier:Loading models/Linear SVM_4.p\n",
      "INFO:polyssifier.polyssifier:Linear SVM_4 : 0.7916666666666667\n",
      "INFO:polyssifier.polyssifier:Loading models/Nearest Neighbors_4.p\n",
      "INFO:polyssifier.polyssifier:Nearest Neighbors_4 : 0.9019607843137256\n",
      "INFO:polyssifier.polyssifier:Loading models/Naive Bayes_4.p\n",
      "INFO:polyssifier.polyssifier:Naive Bayes_4 : 0.7916666666666667\n",
      "INFO:polyssifier.polyssifier:Loading models/Logistic Regression_4.p\n",
      "INFO:polyssifier.polyssifier:Logistic Regression_4 : 0.7916666666666667\n",
      "INFO:polyssifier.polyssifier:Running Multilayer Perceptron\n",
      "INFO:polyssifier.polyssifier:Multilayer Perceptron_4 : 0.9433962264150945\n",
      "INFO:polyssifier.polyssifier:Running Voting Classifier\n",
      "INFO:polyssifier.polyssifier:Hard Voting_4 : 0.8571428571428572\n",
      "INFO:polyssifier.polyssifier:Soft Voting_4 : 0.88\n",
      "INFO:polyssifier.polyssifier:Fold 5\n",
      "INFO:polyssifier.polyssifier:Loading models/RBF SVM_5.p\n",
      "INFO:polyssifier.polyssifier:RBF SVM_5 : 0.816326530612245\n",
      "INFO:polyssifier.polyssifier:Loading models/Random Forest_5.p\n",
      "INFO:polyssifier.polyssifier:Random Forest_5 : 0.782608695652174\n",
      "INFO:polyssifier.polyssifier:Loading models/Decision Tree_5.p\n",
      "INFO:polyssifier.polyssifier:Decision Tree_5 : 0.8000000000000002\n",
      "INFO:polyssifier.polyssifier:Loading models/Linear SVM_5.p\n",
      "INFO:polyssifier.polyssifier:Linear SVM_5 : 0.7346938775510204\n",
      "INFO:polyssifier.polyssifier:Loading models/Nearest Neighbors_5.p\n",
      "INFO:polyssifier.polyssifier:Nearest Neighbors_5 : 0.816326530612245\n",
      "INFO:polyssifier.polyssifier:Loading models/Naive Bayes_5.p\n",
      "INFO:polyssifier.polyssifier:Naive Bayes_5 : 0.7346938775510204\n",
      "INFO:polyssifier.polyssifier:Loading models/Logistic Regression_5.p\n",
      "INFO:polyssifier.polyssifier:Logistic Regression_5 : 0.7499999999999999\n",
      "INFO:polyssifier.polyssifier:Running Multilayer Perceptron\n",
      "INFO:polyssifier.polyssifier:Multilayer Perceptron_5 : 0.8399999999999999\n",
      "INFO:polyssifier.polyssifier:Running Voting Classifier\n",
      "INFO:polyssifier.polyssifier:Hard Voting_5 : 0.7916666666666667\n",
      "INFO:polyssifier.polyssifier:Soft Voting_5 : 0.7916666666666667\n",
      "INFO:polyssifier.polyssifier:Fold 6\n",
      "INFO:polyssifier.polyssifier:Loading models/RBF SVM_6.p\n",
      "INFO:polyssifier.polyssifier:RBF SVM_6 : 0.888888888888889\n",
      "INFO:polyssifier.polyssifier:Loading models/Random Forest_6.p\n",
      "INFO:polyssifier.polyssifier:Random Forest_6 : 0.9019607843137256\n",
      "INFO:polyssifier.polyssifier:Loading models/Decision Tree_6.p\n",
      "INFO:polyssifier.polyssifier:Decision Tree_6 : 0.888888888888889\n",
      "INFO:polyssifier.polyssifier:Loading models/Linear SVM_6.p\n",
      "INFO:polyssifier.polyssifier:Linear SVM_6 : 0.851851851851852\n",
      "INFO:polyssifier.polyssifier:Loading models/Nearest Neighbors_6.p\n",
      "INFO:polyssifier.polyssifier:Nearest Neighbors_6 : 0.8627450980392156\n",
      "INFO:polyssifier.polyssifier:Loading models/Naive Bayes_6.p\n",
      "INFO:polyssifier.polyssifier:Naive Bayes_6 : 0.851851851851852\n",
      "INFO:polyssifier.polyssifier:Loading models/Logistic Regression_6.p\n",
      "INFO:polyssifier.polyssifier:Logistic Regression_6 : 0.851851851851852\n",
      "INFO:polyssifier.polyssifier:Running Multilayer Perceptron\n",
      "INFO:polyssifier.polyssifier:Multilayer Perceptron_6 : 0.8846153846153846\n",
      "INFO:polyssifier.polyssifier:Running Voting Classifier\n",
      "INFO:polyssifier.polyssifier:Hard Voting_6 : 0.9056603773584904\n",
      "INFO:polyssifier.polyssifier:Soft Voting_6 : 0.888888888888889\n",
      "INFO:polyssifier.polyssifier:Fold 7\n",
      "INFO:polyssifier.polyssifier:Loading models/RBF SVM_7.p\n",
      "INFO:polyssifier.polyssifier:RBF SVM_7 : 0.923076923076923\n",
      "INFO:polyssifier.polyssifier:Loading models/Random Forest_7.p\n",
      "INFO:polyssifier.polyssifier:Random Forest_7 : 0.88\n",
      "INFO:polyssifier.polyssifier:Loading models/Decision Tree_7.p\n",
      "INFO:polyssifier.polyssifier:Decision Tree_7 : 0.88\n",
      "INFO:polyssifier.polyssifier:Loading models/Linear SVM_7.p\n",
      "INFO:polyssifier.polyssifier:Linear SVM_7 : 0.8627450980392156\n",
      "INFO:polyssifier.polyssifier:Loading models/Nearest Neighbors_7.p\n",
      "INFO:polyssifier.polyssifier:Nearest Neighbors_7 : 0.9019607843137256\n",
      "INFO:polyssifier.polyssifier:Loading models/Naive Bayes_7.p\n",
      "INFO:polyssifier.polyssifier:Naive Bayes_7 : 0.8627450980392156\n",
      "INFO:polyssifier.polyssifier:Loading models/Logistic Regression_7.p\n",
      "INFO:polyssifier.polyssifier:Logistic Regression_7 : 0.8627450980392156\n",
      "INFO:polyssifier.polyssifier:Running Multilayer Perceptron\n",
      "INFO:polyssifier.polyssifier:Multilayer Perceptron_7 : 0.9433962264150945\n",
      "INFO:polyssifier.polyssifier:Running Voting Classifier\n",
      "INFO:polyssifier.polyssifier:Hard Voting_7 : 0.923076923076923\n",
      "INFO:polyssifier.polyssifier:Soft Voting_7 : 0.923076923076923\n",
      "INFO:polyssifier.polyssifier:Fold 8\n",
      "INFO:polyssifier.polyssifier:Loading models/RBF SVM_8.p\n",
      "INFO:polyssifier.polyssifier:RBF SVM_8 : 0.9433962264150945\n",
      "INFO:polyssifier.polyssifier:Loading models/Random Forest_8.p\n",
      "INFO:polyssifier.polyssifier:Random Forest_8 : 0.9433962264150945\n",
      "INFO:polyssifier.polyssifier:Loading models/Decision Tree_8.p\n",
      "INFO:polyssifier.polyssifier:Decision Tree_8 : 0.9090909090909091\n",
      "INFO:polyssifier.polyssifier:Loading models/Linear SVM_8.p\n",
      "INFO:polyssifier.polyssifier:Linear SVM_8 : 0.8979591836734694\n",
      "INFO:polyssifier.polyssifier:Loading models/Nearest Neighbors_8.p\n",
      "INFO:polyssifier.polyssifier:Nearest Neighbors_8 : 0.9433962264150945\n",
      "INFO:polyssifier.polyssifier:Loading models/Naive Bayes_8.p\n",
      "INFO:polyssifier.polyssifier:Naive Bayes_8 : 0.92\n",
      "INFO:polyssifier.polyssifier:Loading models/Logistic Regression_8.p\n",
      "INFO:polyssifier.polyssifier:Logistic Regression_8 : 0.92\n",
      "INFO:polyssifier.polyssifier:Running Multilayer Perceptron\n",
      "INFO:polyssifier.polyssifier:Multilayer Perceptron_8 : 0.9615384615384615\n",
      "INFO:polyssifier.polyssifier:Running Voting Classifier\n",
      "INFO:polyssifier.polyssifier:Hard Voting_8 : 0.9615384615384615\n",
      "INFO:polyssifier.polyssifier:Soft Voting_8 : 0.9615384615384615\n",
      "INFO:polyssifier.polyssifier:Fold 9\n",
      "INFO:polyssifier.polyssifier:Loading models/RBF SVM_9.p\n",
      "INFO:polyssifier.polyssifier:RBF SVM_9 : 0.9166666666666666\n",
      "INFO:polyssifier.polyssifier:Loading models/Random Forest_9.p\n",
      "INFO:polyssifier.polyssifier:Random Forest_9 : 0.8749999999999999\n",
      "INFO:polyssifier.polyssifier:Loading models/Decision Tree_9.p\n",
      "INFO:polyssifier.polyssifier:Decision Tree_9 : 0.816326530612245\n",
      "INFO:polyssifier.polyssifier:Loading models/Linear SVM_9.p\n",
      "INFO:polyssifier.polyssifier:Linear SVM_9 : 0.8260869565217391\n",
      "INFO:polyssifier.polyssifier:Loading models/Nearest Neighbors_9.p\n",
      "INFO:polyssifier.polyssifier:Nearest Neighbors_9 : 0.8936170212765958\n",
      "INFO:polyssifier.polyssifier:Loading models/Naive Bayes_9.p\n",
      "INFO:polyssifier.polyssifier:Naive Bayes_9 : 0.7441860465116279\n",
      "INFO:polyssifier.polyssifier:Loading models/Logistic Regression_9.p\n",
      "INFO:polyssifier.polyssifier:Logistic Regression_9 : 0.7441860465116279\n",
      "INFO:polyssifier.polyssifier:Running Multilayer Perceptron\n",
      "INFO:polyssifier.polyssifier:Multilayer Perceptron_9 : 0.9387755102040817\n",
      "INFO:polyssifier.polyssifier:Running Voting Classifier\n",
      "INFO:polyssifier.polyssifier:Hard Voting_9 : 0.9166666666666666\n",
      "INFO:polyssifier.polyssifier:Soft Voting_9 : 0.9166666666666666\n",
      "INFO:polyssifier.polyssifier:Fold 10\n",
      "INFO:polyssifier.polyssifier:Loading models/RBF SVM_10.p\n",
      "INFO:polyssifier.polyssifier:RBF SVM_10 : 0.9411764705882353\n",
      "INFO:polyssifier.polyssifier:Loading models/Random Forest_10.p\n",
      "INFO:polyssifier.polyssifier:Random Forest_10 : 0.9387755102040817\n",
      "INFO:polyssifier.polyssifier:Loading models/Decision Tree_10.p\n",
      "INFO:polyssifier.polyssifier:Decision Tree_10 : 0.92\n",
      "INFO:polyssifier.polyssifier:Loading models/Linear SVM_10.p\n",
      "INFO:polyssifier.polyssifier:Linear SVM_10 : 0.8571428571428572\n",
      "INFO:polyssifier.polyssifier:Loading models/Nearest Neighbors_10.p\n",
      "INFO:polyssifier.polyssifier:Nearest Neighbors_10 : 0.923076923076923\n",
      "INFO:polyssifier.polyssifier:Loading models/Naive Bayes_10.p\n",
      "INFO:polyssifier.polyssifier:Naive Bayes_10 : 0.8571428571428572\n",
      "INFO:polyssifier.polyssifier:Loading models/Logistic Regression_10.p\n",
      "INFO:polyssifier.polyssifier:Logistic Regression_10 : 0.88\n",
      "INFO:polyssifier.polyssifier:Running Multilayer Perceptron\n",
      "INFO:polyssifier.polyssifier:Multilayer Perceptron_10 : 0.9056603773584904\n",
      "INFO:polyssifier.polyssifier:Running Voting Classifier\n",
      "INFO:polyssifier.polyssifier:Hard Voting_10 : 0.9411764705882353\n",
      "INFO:polyssifier.polyssifier:Soft Voting_10 : 0.9411764705882353\n"
     ]
    }
   ],
   "source": [
    "# single class example\n",
    "pol = Poly(data,label, n_folds=10, verbose=1, exclude=[])\n",
    "scores= pol.run()\n"
   ]
  },
  {
   "cell_type": "code",
   "execution_count": 3,
   "metadata": {
    "collapsed": false
   },
   "outputs": [
    {
     "data": {
      "text/plain": [
       "<matplotlib.figure.Figure at 0x7f44a3796978>"
      ]
     },
     "metadata": {},
     "output_type": "display_data"
    },
    {
     "data": {
      "image/png": "[encoded data removed]",
      "text/plain": [
       "<matplotlib.figure.Figure at 0x7f44f3267390>"
      ]
     },
     "metadata": {},
     "output_type": "display_data"
    }
   ],
   "source": [
    "pol.plot()"
   ]
  }
 ],
 "metadata": {
  "kernelspec": {
   "display_name": "Python 3",
   "language": "python",
   "name": "python3"
  },
  "language_info": {
   "codemirror_mode": {
    "name": "ipython",
    "version": 3
   },
   "file_extension": ".py",
   "mimetype": "text/x-python",
   "name": "python",
   "nbconvert_exporter": "python",
   "pygments_lexer": "ipython3",
   "version": "3.4.3"
  }
 },
 "nbformat": 4,
 "nbformat_minor": 0
}
