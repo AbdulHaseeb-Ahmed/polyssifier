{
 "cells": [
  {
   "cell_type": "code",
   "execution_count": 1,
   "metadata": {
    "collapsed": false
   },
   "outputs": [
    {
     "name": "stdout",
     "output_type": "stream",
     "text": [
      "(500, 2)\n",
      "(500,)\n"
     ]
    },
    {
     "name": "stderr",
     "output_type": "stream",
     "text": [
      "Using gpu device 0: GeForce GT 740M\n"
     ]
    },
    {
     "data": {
      "image/png": "[encoded data removed]",
      "text/plain": [
       "<matplotlib.figure.Figure at 0x7f3d50146e48>"
      ]
     },
     "metadata": {},
     "output_type": "display_data"
    }
   ],
   "source": [
    "import warnings\n",
    "warnings.filterwarnings('ignore')\n",
    "from sklearn import datasets\n",
    "from polyssifier import Poly\n",
    "import numpy as np\n",
    "import pandas as pd\n",
    "from sklearn.datasets import make_moons\n",
    "import matplotlib.pyplot as plt \n",
    "\n",
    "%matplotlib inline\n",
    "data, label = make_moons(n_samples=500, noise=0.3)\n",
    "print(data.shape)\n",
    "print(label.shape)\n",
    "\n",
    "plt.plot(data[label==0,0], data[label==0,1],'.');\n",
    "plt.plot(data[label==1,0], data[label==1,1],'r.');"
   ]
  },
  {
   "cell_type": "code",
   "execution_count": null,
   "metadata": {
    "collapsed": false,
    "scrolled": true
   },
   "outputs": [
    {
     "name": "stderr",
     "output_type": "stream",
     "text": [
      "INFO:polyssifier.polyssifier:Fold 1\n",
      "INFO:polyssifier.polyssifier:Loading models/Random Forest_1.p\n",
      "/home/aulloa/Envs/sp3/lib/python3.4/site-packages/sklearn/metrics/classification.py:976: DeprecationWarning: From version 0.18, binary input will not be handled specially when using averaged precision/recall/F-score. Please use average='binary' to report only the positive class performance.\n",
      "  'positive class performance.', DeprecationWarning)\n",
      "INFO:polyssifier.polyssifier:Random Forest_1 : 0.8399999999999999\n",
      "INFO:polyssifier.polyssifier:Loading models/RBF SVM_1.p\n",
      "/home/aulloa/Envs/sp3/lib/python3.4/site-packages/sklearn/metrics/classification.py:976: DeprecationWarning: From version 0.18, binary input will not be handled specially when using averaged precision/recall/F-score. Please use average='binary' to report only the positive class performance.\n",
      "  'positive class performance.', DeprecationWarning)\n",
      "INFO:polyssifier.polyssifier:RBF SVM_1 : 0.8979591836734694\n",
      "INFO:polyssifier.polyssifier:Loading models/Nearest Neighbors_1.p\n",
      "/home/aulloa/Envs/sp3/lib/python3.4/site-packages/sklearn/metrics/classification.py:976: DeprecationWarning: From version 0.18, binary input will not be handled specially when using averaged precision/recall/F-score. Please use average='binary' to report only the positive class performance.\n",
      "  'positive class performance.', DeprecationWarning)\n",
      "INFO:polyssifier.polyssifier:Nearest Neighbors_1 : 0.8749999999999999\n",
      "INFO:polyssifier.polyssifier:Loading models/Logistic Regression_1.p\n",
      "/home/aulloa/Envs/sp3/lib/python3.4/site-packages/sklearn/metrics/classification.py:976: DeprecationWarning: From version 0.18, binary input will not be handled specially when using averaged precision/recall/F-score. Please use average='binary' to report only the positive class performance.\n",
      "  'positive class performance.', DeprecationWarning)\n",
      "INFO:polyssifier.polyssifier:Logistic Regression_1 : 0.830188679245283\n",
      "INFO:polyssifier.polyssifier:Running Multilayer Perceptron\n"
     ]
    }
   ],
   "source": [
    "# single class example\n",
    "pol = Poly(data,label, n_folds=10, verbose=1, exclude=[])\n",
    "scores= pol.run()\n"
   ]
  },
  {
   "cell_type": "code",
   "execution_count": null,
   "metadata": {
    "collapsed": false
   },
   "outputs": [],
   "source": [
    "pol.plot()"
   ]
  }
 ],
 "metadata": {
  "kernelspec": {
   "display_name": "Python 3",
   "language": "python",
   "name": "python3"
  },
  "language_info": {
   "codemirror_mode": {
    "name": "ipython",
    "version": 3
   },
   "file_extension": ".py",
   "mimetype": "text/x-python",
   "name": "python",
   "nbconvert_exporter": "python",
   "pygments_lexer": "ipython3",
   "version": "3.4.3"
  }
 },
 "nbformat": 4,
 "nbformat_minor": 0
}
