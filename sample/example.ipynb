{
 "cells": [
  {
   "cell_type": "code",
   "execution_count": 1,
   "metadata": {
    "collapsed": false
   },
   "outputs": [
    {
     "name": "stdout",
     "output_type": "stream",
     "text": [
      "(500, 2)\n",
      "(500,)\n"
     ]
    },
    {
     "name": "stderr",
     "output_type": "stream",
     "text": [
      "Using gpu device 0: GeForce GT 740M\n"
     ]
    },
    {
     "data": {
      "image/png": "[encoded data removed]",
      "text/plain": [
       "<matplotlib.figure.Figure at 0x7f689658ce80>"
      ]
     },
     "metadata": {},
     "output_type": "display_data"
    }
   ],
   "source": [
    "import warnings\n",
    "warnings.filterwarnings('ignore')\n",
    "from sklearn import datasets\n",
    "from polyssifier import Poly\n",
    "import numpy as np\n",
    "import pandas as pd\n",
    "from sklearn.datasets import make_moons\n",
    "import matplotlib.pyplot as plt \n",
    "\n",
    "%matplotlib inline\n",
    "data, label = make_moons(n_samples=500, noise=0.3)\n",
    "print(data.shape)\n",
    "print(label.shape)\n",
    "\n",
    "plt.plot(data[label==0,0], data[label==0,1],'.');\n",
    "plt.plot(data[label==1,0], data[label==1,1],'r.');"
   ]
  },
  {
   "cell_type": "code",
   "execution_count": 2,
   "metadata": {
    "collapsed": false,
    "scrolled": true
   },
   "outputs": [
    {
     "name": "stderr",
     "output_type": "stream",
     "text": [
      "INFO:polyssifier.polyssifier:Fold 1\n",
      "INFO:polyssifier.polyssifier:Loading models/Naive Bayes_1.p\n",
      "INFO:polyssifier.polyssifier:Naive Bayes_1 : 0.9130434782608696\n",
      "INFO:polyssifier.polyssifier:Loading models/Logistic Regression_1.p\n",
      "INFO:polyssifier.polyssifier:Logistic Regression_1 : 0.9130434782608696\n",
      "INFO:polyssifier.polyssifier:Loading models/RBF SVM_1.p\n",
      "INFO:polyssifier.polyssifier:RBF SVM_1 : 0.9166666666666666\n",
      "INFO:polyssifier.polyssifier:Loading models/Nearest Neighbors_1.p\n",
      "INFO:polyssifier.polyssifier:Nearest Neighbors_1 : 0.9166666666666666\n",
      "INFO:polyssifier.polyssifier:Loading models/Decision Tree_1.p\n",
      "INFO:polyssifier.polyssifier:Decision Tree_1 : 0.9387755102040817\n",
      "INFO:polyssifier.polyssifier:Loading models/Random Forest_1.p\n",
      "INFO:polyssifier.polyssifier:Random Forest_1 : 0.9166666666666666\n",
      "INFO:polyssifier.polyssifier:Loading models/Linear SVM_1.p\n",
      "INFO:polyssifier.polyssifier:Linear SVM_1 : 0.9130434782608696\n",
      "INFO:polyssifier.polyssifier:Loading models/Voting_1.p\n",
      "INFO:polyssifier.polyssifier:Voting_1 : 0.9166666666666666\n",
      "INFO:polyssifier.polyssifier:Fold 2\n",
      "INFO:polyssifier.polyssifier:Loading models/Naive Bayes_2.p\n",
      "INFO:polyssifier.polyssifier:Naive Bayes_2 : 0.9056603773584904\n",
      "INFO:polyssifier.polyssifier:Loading models/Logistic Regression_2.p\n",
      "INFO:polyssifier.polyssifier:Logistic Regression_2 : 0.9056603773584904\n",
      "INFO:polyssifier.polyssifier:Loading models/RBF SVM_2.p\n",
      "INFO:polyssifier.polyssifier:RBF SVM_2 : 0.96\n",
      "INFO:polyssifier.polyssifier:Loading models/Nearest Neighbors_2.p\n",
      "INFO:polyssifier.polyssifier:Nearest Neighbors_2 : 0.96\n",
      "INFO:polyssifier.polyssifier:Loading models/Decision Tree_2.p\n",
      "INFO:polyssifier.polyssifier:Decision Tree_2 : 0.8771929824561403\n",
      "INFO:polyssifier.polyssifier:Loading models/Random Forest_2.p\n",
      "INFO:polyssifier.polyssifier:Random Forest_2 : 0.9056603773584904\n",
      "INFO:polyssifier.polyssifier:Loading models/Linear SVM_2.p\n",
      "INFO:polyssifier.polyssifier:Linear SVM_2 : 0.9056603773584904\n",
      "INFO:polyssifier.polyssifier:Loading models/Voting_2.p\n",
      "INFO:polyssifier.polyssifier:Voting_2 : 0.9411764705882353\n",
      "INFO:polyssifier.polyssifier:Fold 3\n",
      "INFO:polyssifier.polyssifier:Loading models/Naive Bayes_3.p\n",
      "INFO:polyssifier.polyssifier:Naive Bayes_3 : 0.8510638297872342\n",
      "INFO:polyssifier.polyssifier:Loading models/Logistic Regression_3.p\n",
      "INFO:polyssifier.polyssifier:Logistic Regression_3 : 0.8510638297872342\n",
      "INFO:polyssifier.polyssifier:Loading models/RBF SVM_3.p\n",
      "INFO:polyssifier.polyssifier:RBF SVM_3 : 1.0\n",
      "INFO:polyssifier.polyssifier:Loading models/Nearest Neighbors_3.p\n",
      "INFO:polyssifier.polyssifier:Nearest Neighbors_3 : 0.9795918367346939\n",
      "INFO:polyssifier.polyssifier:Loading models/Decision Tree_3.p\n",
      "INFO:polyssifier.polyssifier:Decision Tree_3 : 0.9803921568627451\n",
      "INFO:polyssifier.polyssifier:Loading models/Random Forest_3.p\n",
      "INFO:polyssifier.polyssifier:Random Forest_3 : 0.9411764705882353\n",
      "INFO:polyssifier.polyssifier:Loading models/Linear SVM_3.p\n",
      "INFO:polyssifier.polyssifier:Linear SVM_3 : 0.816326530612245\n",
      "INFO:polyssifier.polyssifier:Loading models/Voting_3.p\n",
      "INFO:polyssifier.polyssifier:Voting_3 : 0.9803921568627451\n",
      "INFO:polyssifier.polyssifier:Fold 4\n",
      "INFO:polyssifier.polyssifier:Loading models/Naive Bayes_4.p\n",
      "INFO:polyssifier.polyssifier:Naive Bayes_4 : 0.7659574468085107\n",
      "INFO:polyssifier.polyssifier:Loading models/Logistic Regression_4.p\n",
      "INFO:polyssifier.polyssifier:Logistic Regression_4 : 0.7659574468085107\n",
      "INFO:polyssifier.polyssifier:Loading models/RBF SVM_4.p\n",
      "INFO:polyssifier.polyssifier:RBF SVM_4 : 0.8333333333333333\n",
      "INFO:polyssifier.polyssifier:Loading models/Nearest Neighbors_4.p\n",
      "INFO:polyssifier.polyssifier:Nearest Neighbors_4 : 0.8510638297872342\n",
      "INFO:polyssifier.polyssifier:Loading models/Decision Tree_4.p\n",
      "INFO:polyssifier.polyssifier:Decision Tree_4 : 0.7659574468085107\n",
      "INFO:polyssifier.polyssifier:Loading models/Random Forest_4.p\n",
      "INFO:polyssifier.polyssifier:Random Forest_4 : 0.8260869565217391\n",
      "INFO:polyssifier.polyssifier:Loading models/Linear SVM_4.p\n",
      "INFO:polyssifier.polyssifier:Linear SVM_4 : 0.7659574468085107\n",
      "INFO:polyssifier.polyssifier:Loading models/Voting_4.p\n",
      "INFO:polyssifier.polyssifier:Voting_4 : 0.8333333333333333\n",
      "INFO:polyssifier.polyssifier:Fold 5\n",
      "INFO:polyssifier.polyssifier:Loading models/Naive Bayes_5.p\n",
      "INFO:polyssifier.polyssifier:Naive Bayes_5 : 0.7547169811320756\n",
      "INFO:polyssifier.polyssifier:Loading models/Logistic Regression_5.p\n",
      "INFO:polyssifier.polyssifier:Logistic Regression_5 : 0.7547169811320756\n",
      "INFO:polyssifier.polyssifier:Loading models/RBF SVM_5.p\n",
      "INFO:polyssifier.polyssifier:RBF SVM_5 : 0.8148148148148148\n",
      "INFO:polyssifier.polyssifier:Loading models/Nearest Neighbors_5.p\n",
      "INFO:polyssifier.polyssifier:Nearest Neighbors_5 : 0.830188679245283\n",
      "INFO:polyssifier.polyssifier:Loading models/Decision Tree_5.p\n",
      "INFO:polyssifier.polyssifier:Decision Tree_5 : 0.830188679245283\n",
      "INFO:polyssifier.polyssifier:Loading models/Random Forest_5.p\n",
      "INFO:polyssifier.polyssifier:Random Forest_5 : 0.8627450980392156\n",
      "INFO:polyssifier.polyssifier:Loading models/Linear SVM_5.p\n",
      "INFO:polyssifier.polyssifier:Linear SVM_5 : 0.7547169811320756\n",
      "INFO:polyssifier.polyssifier:Loading models/Voting_5.p\n",
      "INFO:polyssifier.polyssifier:Voting_5 : 0.8148148148148148\n",
      "INFO:polyssifier.polyssifier:Fold 6\n",
      "INFO:polyssifier.polyssifier:Loading models/Naive Bayes_6.p\n",
      "INFO:polyssifier.polyssifier:Naive Bayes_6 : 0.8627450980392156\n",
      "INFO:polyssifier.polyssifier:Loading models/Logistic Regression_6.p\n",
      "INFO:polyssifier.polyssifier:Logistic Regression_6 : 0.8627450980392156\n",
      "INFO:polyssifier.polyssifier:Loading models/RBF SVM_6.p\n",
      "INFO:polyssifier.polyssifier:RBF SVM_6 : 0.9615384615384615\n",
      "INFO:polyssifier.polyssifier:Loading models/Nearest Neighbors_6.p\n",
      "INFO:polyssifier.polyssifier:Nearest Neighbors_6 : 0.9615384615384615\n",
      "INFO:polyssifier.polyssifier:Loading models/Decision Tree_6.p\n",
      "INFO:polyssifier.polyssifier:Decision Tree_6 : 0.8727272727272728\n",
      "INFO:polyssifier.polyssifier:Loading models/Random Forest_6.p\n",
      "INFO:polyssifier.polyssifier:Random Forest_6 : 0.9615384615384615\n",
      "INFO:polyssifier.polyssifier:Loading models/Linear SVM_6.p\n",
      "INFO:polyssifier.polyssifier:Linear SVM_6 : 0.8627450980392156\n",
      "INFO:polyssifier.polyssifier:Loading models/Voting_6.p\n",
      "INFO:polyssifier.polyssifier:Voting_6 : 0.92\n",
      "INFO:polyssifier.polyssifier:Fold 7\n",
      "INFO:polyssifier.polyssifier:Loading models/Naive Bayes_7.p\n",
      "INFO:polyssifier.polyssifier:Naive Bayes_7 : 0.8627450980392156\n",
      "INFO:polyssifier.polyssifier:Loading models/Logistic Regression_7.p\n",
      "INFO:polyssifier.polyssifier:Logistic Regression_7 : 0.8627450980392156\n",
      "INFO:polyssifier.polyssifier:Loading models/RBF SVM_7.p\n",
      "INFO:polyssifier.polyssifier:RBF SVM_7 : 1.0\n",
      "INFO:polyssifier.polyssifier:Loading models/Nearest Neighbors_7.p\n",
      "INFO:polyssifier.polyssifier:Nearest Neighbors_7 : 1.0\n",
      "INFO:polyssifier.polyssifier:Loading models/Decision Tree_7.p\n",
      "INFO:polyssifier.polyssifier:Decision Tree_7 : 0.8846153846153846\n",
      "INFO:polyssifier.polyssifier:Loading models/Random Forest_7.p\n",
      "INFO:polyssifier.polyssifier:Random Forest_7 : 0.9795918367346939\n",
      "INFO:polyssifier.polyssifier:Loading models/Linear SVM_7.p\n",
      "INFO:polyssifier.polyssifier:Linear SVM_7 : 0.8627450980392156\n",
      "INFO:polyssifier.polyssifier:Loading models/Voting_7.p\n",
      "INFO:polyssifier.polyssifier:Voting_7 : 0.9615384615384615\n",
      "INFO:polyssifier.polyssifier:Fold 8\n",
      "INFO:polyssifier.polyssifier:Loading models/Naive Bayes_8.p\n",
      "INFO:polyssifier.polyssifier:Naive Bayes_8 : 0.888888888888889\n",
      "INFO:polyssifier.polyssifier:Loading models/Logistic Regression_8.p\n",
      "INFO:polyssifier.polyssifier:Logistic Regression_8 : 0.888888888888889\n",
      "INFO:polyssifier.polyssifier:Loading models/RBF SVM_8.p\n",
      "INFO:polyssifier.polyssifier:RBF SVM_8 : 0.888888888888889\n",
      "INFO:polyssifier.polyssifier:Loading models/Nearest Neighbors_8.p\n",
      "INFO:polyssifier.polyssifier:Nearest Neighbors_8 : 0.9019607843137256\n",
      "INFO:polyssifier.polyssifier:Loading models/Decision Tree_8.p\n",
      "INFO:polyssifier.polyssifier:Decision Tree_8 : 0.8846153846153846\n",
      "INFO:polyssifier.polyssifier:Loading models/Random Forest_8.p\n",
      "INFO:polyssifier.polyssifier:Random Forest_8 : 0.92\n",
      "INFO:polyssifier.polyssifier:Loading models/Linear SVM_8.p\n",
      "INFO:polyssifier.polyssifier:Linear SVM_8 : 0.888888888888889\n",
      "INFO:polyssifier.polyssifier:Loading models/Voting_8.p\n",
      "INFO:polyssifier.polyssifier:Voting_8 : 0.888888888888889\n",
      "INFO:polyssifier.polyssifier:Fold 9\n",
      "INFO:polyssifier.polyssifier:Loading models/Naive Bayes_9.p\n",
      "INFO:polyssifier.polyssifier:Naive Bayes_9 : 0.830188679245283\n",
      "INFO:polyssifier.polyssifier:Loading models/Logistic Regression_9.p\n",
      "INFO:polyssifier.polyssifier:Logistic Regression_9 : 0.851851851851852\n",
      "INFO:polyssifier.polyssifier:Loading models/RBF SVM_9.p\n",
      "INFO:polyssifier.polyssifier:RBF SVM_9 : 0.9411764705882353\n",
      "INFO:polyssifier.polyssifier:Loading models/Nearest Neighbors_9.p\n",
      "INFO:polyssifier.polyssifier:Nearest Neighbors_9 : 0.9411764705882353\n",
      "INFO:polyssifier.polyssifier:Loading models/Decision Tree_9.p\n",
      "INFO:polyssifier.polyssifier:Decision Tree_9 : 0.8461538461538461\n",
      "INFO:polyssifier.polyssifier:Loading models/Random Forest_9.p\n",
      "INFO:polyssifier.polyssifier:Random Forest_9 : 0.923076923076923\n",
      "INFO:polyssifier.polyssifier:Loading models/Linear SVM_9.p\n",
      "INFO:polyssifier.polyssifier:Linear SVM_9 : 0.851851851851852\n",
      "INFO:polyssifier.polyssifier:Loading models/Voting_9.p\n",
      "INFO:polyssifier.polyssifier:Voting_9 : 0.923076923076923\n",
      "INFO:polyssifier.polyssifier:Fold 10\n",
      "INFO:polyssifier.polyssifier:Loading models/Naive Bayes_10.p\n",
      "INFO:polyssifier.polyssifier:Naive Bayes_10 : 0.76\n",
      "INFO:polyssifier.polyssifier:Loading models/Logistic Regression_10.p\n",
      "INFO:polyssifier.polyssifier:Logistic Regression_10 : 0.7843137254901961\n",
      "INFO:polyssifier.polyssifier:Loading models/RBF SVM_10.p\n",
      "INFO:polyssifier.polyssifier:RBF SVM_10 : 0.8235294117647058\n",
      "INFO:polyssifier.polyssifier:Loading models/Nearest Neighbors_10.p\n",
      "INFO:polyssifier.polyssifier:Nearest Neighbors_10 : 0.8076923076923077\n",
      "INFO:polyssifier.polyssifier:Loading models/Decision Tree_10.p\n",
      "INFO:polyssifier.polyssifier:Decision Tree_10 : 0.8846153846153846\n",
      "INFO:polyssifier.polyssifier:Loading models/Random Forest_10.p\n",
      "INFO:polyssifier.polyssifier:Random Forest_10 : 0.8363636363636363\n",
      "INFO:polyssifier.polyssifier:Loading models/Linear SVM_10.p\n",
      "INFO:polyssifier.polyssifier:Linear SVM_10 : 0.7547169811320756\n",
      "INFO:polyssifier.polyssifier:Loading models/Voting_10.p\n",
      "INFO:polyssifier.polyssifier:Voting_10 : 0.8076923076923077\n"
     ]
    }
   ],
   "source": [
    "# single class example\n",
    "pol = Poly(data,label, n_folds=10, verbose=1, exclude=['Multilayer Perceptron'])\n",
    "scores= pol.run()\n"
   ]
  },
  {
   "cell_type": "code",
   "execution_count": 3,
   "metadata": {
    "collapsed": false,
    "scrolled": true
   },
   "outputs": [
    {
     "data": {
      "text/plain": [
       "{'Decision Tree': [0.93877551020408168,\n",
       "  0.8771929824561403,\n",
       "  0.98039215686274506,\n",
       "  0.76595744680851074,\n",
       "  0.83018867924528295,\n",
       "  0.8727272727272728,\n",
       "  0.88461538461538458,\n",
       "  0.88461538461538458,\n",
       "  0.84615384615384615,\n",
       "  0.88461538461538458],\n",
       " 'Linear SVM': [0.91304347826086962,\n",
       "  0.90566037735849036,\n",
       "  0.81632653061224503,\n",
       "  0.76595744680851074,\n",
       "  0.75471698113207564,\n",
       "  0.86274509803921562,\n",
       "  0.86274509803921562,\n",
       "  0.88888888888888895,\n",
       "  0.85185185185185197,\n",
       "  0.75471698113207564],\n",
       " 'Logistic Regression': [0.91304347826086962,\n",
       "  0.90566037735849036,\n",
       "  0.85106382978723416,\n",
       "  0.76595744680851074,\n",
       "  0.75471698113207564,\n",
       "  0.86274509803921562,\n",
       "  0.86274509803921562,\n",
       "  0.88888888888888895,\n",
       "  0.85185185185185197,\n",
       "  0.78431372549019607],\n",
       " 'Naive Bayes': [0.91304347826086962,\n",
       "  0.90566037735849036,\n",
       "  0.85106382978723416,\n",
       "  0.76595744680851074,\n",
       "  0.75471698113207564,\n",
       "  0.86274509803921562,\n",
       "  0.86274509803921562,\n",
       "  0.88888888888888895,\n",
       "  0.83018867924528295,\n",
       "  0.76000000000000001],\n",
       " 'Nearest Neighbors': [0.91666666666666663,\n",
       "  0.95999999999999996,\n",
       "  0.97959183673469385,\n",
       "  0.85106382978723416,\n",
       "  0.83018867924528295,\n",
       "  0.96153846153846145,\n",
       "  1.0,\n",
       "  0.90196078431372562,\n",
       "  0.94117647058823528,\n",
       "  0.80769230769230771],\n",
       " 'RBF SVM': [0.91666666666666663,\n",
       "  0.95999999999999996,\n",
       "  1.0,\n",
       "  0.83333333333333326,\n",
       "  0.81481481481481477,\n",
       "  0.96153846153846145,\n",
       "  1.0,\n",
       "  0.88888888888888895,\n",
       "  0.94117647058823528,\n",
       "  0.82352941176470584],\n",
       " 'Random Forest': [0.91666666666666663,\n",
       "  0.90566037735849036,\n",
       "  0.94117647058823528,\n",
       "  0.82608695652173914,\n",
       "  0.86274509803921562,\n",
       "  0.96153846153846145,\n",
       "  0.97959183673469385,\n",
       "  0.92000000000000004,\n",
       "  0.92307692307692302,\n",
       "  0.83636363636363631],\n",
       " 'Voting': [0.91666666666666663,\n",
       "  0.94117647058823528,\n",
       "  0.98039215686274506,\n",
       "  0.83333333333333326,\n",
       "  0.81481481481481477,\n",
       "  0.92000000000000004,\n",
       "  0.96153846153846145,\n",
       "  0.88888888888888895,\n",
       "  0.92307692307692302,\n",
       "  0.80769230769230771]}"
      ]
     },
     "execution_count": 3,
     "metadata": {},
     "output_type": "execute_result"
    }
   ],
   "source": [
    "scores"
   ]
  },
  {
   "cell_type": "code",
   "execution_count": 4,
   "metadata": {
    "collapsed": false
   },
   "outputs": [
    {
     "data": {
      "text/plain": [
       "<matplotlib.figure.Figure at 0x7f689c268f28>"
      ]
     },
     "metadata": {},
     "output_type": "display_data"
    },
    {
     "data": {
      "image/png": "[encoded data removed]",
      "text/plain": [
       "<matplotlib.figure.Figure at 0x7f6850b81048>"
      ]
     },
     "metadata": {},
     "output_type": "display_data"
    }
   ],
   "source": [
    "pol.plot()"
   ]
  }
 ],
 "metadata": {
  "kernelspec": {
   "display_name": "Python 3",
   "language": "python",
   "name": "python3"
  },
  "language_info": {
   "codemirror_mode": {
    "name": "ipython",
    "version": 3
   },
   "file_extension": ".py",
   "mimetype": "text/x-python",
   "name": "python",
   "nbconvert_exporter": "python",
   "pygments_lexer": "ipython3",
   "version": "3.4.3"
  }
 },
 "nbformat": 4,
 "nbformat_minor": 0
}
