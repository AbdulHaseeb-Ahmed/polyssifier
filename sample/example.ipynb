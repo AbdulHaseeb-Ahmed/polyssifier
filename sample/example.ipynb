{
 "cells": [
  {
   "cell_type": "code",
   "execution_count": 1,
   "metadata": {
    "collapsed": false
   },
   "outputs": [
    {
     "name": "stdout",
     "output_type": "stream",
     "text": [
      "(500, 2)\n",
      "(500,)\n"
     ]
    },
    {
     "name": "stderr",
     "output_type": "stream",
     "text": [
      "Using gpu device 0: GeForce GT 740M\n"
     ]
    },
    {
     "data": {
      "image/png": "[encoded data removed]",
      "text/plain": [
       "<matplotlib.figure.Figure at 0x7ff978058198>"
      ]
     },
     "metadata": {},
     "output_type": "display_data"
    }
   ],
   "source": [
    "import warnings\n",
    "warnings.filterwarnings('ignore')\n",
    "warnings.filterwarnings(\"ignore\",category=DeprecationWarning)\n",
    "\n",
    "from sklearn import datasets\n",
    "from polyssifier import Poly\n",
    "import numpy as np\n",
    "import pandas as pd\n",
    "from sklearn.datasets import make_moons\n",
    "import matplotlib.pyplot as plt \n",
    "\n",
    "%matplotlib inline\n",
    "data, label = make_moons(n_samples=500, noise=0.3)\n",
    "print(data.shape)\n",
    "print(label.shape)\n",
    "\n",
    "plt.plot(data[label==0,0], data[label==0,1],'.');\n",
    "plt.plot(data[label==1,0], data[label==1,1],'r.');"
   ]
  },
  {
   "cell_type": "code",
   "execution_count": 4,
   "metadata": {
    "collapsed": false,
    "scrolled": true
   },
   "outputs": [
    {
     "name": "stderr",
     "output_type": "stream",
     "text": [
      "INFO:polyssifier.polyssifier:Fold 1\n",
      "INFO:polyssifier.polyssifier:Loading models/Random Forest_1.p\n",
      "INFO:polyssifier.polyssifier:Random Forest            :  Train 0.82, 0.01 sec\n",
      "INFO:polyssifier.polyssifier:Loading models/Nearest Neighbors_1.p\n",
      "INFO:polyssifier.polyssifier:Nearest Neighbors        :  Train 0.81, 0.00 sec\n",
      "INFO:polyssifier.polyssifier:Loading models/Naive Bayes_1.p\n",
      "INFO:polyssifier.polyssifier:Naive Bayes              :  Train 0.84, 0.00 sec\n",
      "INFO:polyssifier.polyssifier:Loading models/SVM_1.p\n",
      "INFO:polyssifier.polyssifier:SVM                      :  Train 0.91, 0.01 sec\n",
      "INFO:polyssifier.polyssifier:Running Multilayer Perceptron\n",
      "INFO:polyssifier.polyssifier:Multilayer Perceptron    :  Train 0.93, 9.85 sec\n",
      "INFO:polyssifier.polyssifier:Loading models/Logistic Regression_1.p\n",
      "INFO:polyssifier.polyssifier:Logistic Regression      :  Train 0.85, 0.00 sec\n",
      "INFO:polyssifier.polyssifier:Loading models/Decision Tree_1.p\n",
      "INFO:polyssifier.polyssifier:Decision Tree            :  Train 0.83, 0.00 sec\n",
      "INFO:polyssifier.polyssifier:Running Voting Classifier\n",
      "INFO:polyssifier.polyssifier:Hard Voting               : Train 0.88\n",
      "INFO:polyssifier.polyssifier:Soft Voting               : Train 0.88\n",
      "INFO:polyssifier.polyssifier:Hard Voting               : Test 0.85\n",
      "INFO:polyssifier.polyssifier:Naive Bayes               : Test 0.85\n",
      "INFO:polyssifier.polyssifier:Nearest Neighbors         : Test 0.81\n",
      "INFO:polyssifier.polyssifier:Soft Voting               : Test 0.86\n",
      "INFO:polyssifier.polyssifier:Random Forest             : Test 0.82\n",
      "INFO:polyssifier.polyssifier:SVM                       : Test 0.90\n",
      "INFO:polyssifier.polyssifier:Multilayer Perceptron     : Test 0.94\n",
      "INFO:polyssifier.polyssifier:Logistic Regression       : Test 0.83\n",
      "INFO:polyssifier.polyssifier:Decision Tree             : Test 0.79\n",
      "INFO:polyssifier.polyssifier:Fold 2\n",
      "INFO:polyssifier.polyssifier:Loading models/Random Forest_2.p\n",
      "INFO:polyssifier.polyssifier:Random Forest            :  Train 0.82, 0.00 sec\n",
      "INFO:polyssifier.polyssifier:Loading models/Nearest Neighbors_2.p\n",
      "INFO:polyssifier.polyssifier:Nearest Neighbors        :  Train 0.82, 0.00 sec\n",
      "INFO:polyssifier.polyssifier:Loading models/Naive Bayes_2.p\n",
      "INFO:polyssifier.polyssifier:Naive Bayes              :  Train 0.84, 0.00 sec\n",
      "INFO:polyssifier.polyssifier:Running SVM\n"
     ]
    },
    {
     "name": "stdout",
     "output_type": "stream",
     "text": [
      "Model:[50, 25.0, 12.0, 1]\n",
      "l1: 0, drop: 0, lr: 1, patience: 500\n"
     ]
    },
    {
     "name": "stderr",
     "output_type": "stream",
     "text": [
      "INFO:polyssifier.polyssifier:SVM                      :  Train 0.91, 0.25 sec\n",
      "INFO:polyssifier.polyssifier:Running Multilayer Perceptron\n",
      "INFO:polyssifier.polyssifier:Multilayer Perceptron    :  Train 0.93, 8.94 sec\n",
      "INFO:polyssifier.polyssifier:Loading models/Logistic Regression_2.p\n",
      "INFO:polyssifier.polyssifier:Logistic Regression      :  Train 0.84, 0.00 sec\n",
      "INFO:polyssifier.polyssifier:Loading models/Decision Tree_2.p\n",
      "INFO:polyssifier.polyssifier:Decision Tree            :  Train 0.81, 0.00 sec\n",
      "INFO:polyssifier.polyssifier:Running Voting Classifier\n",
      "INFO:polyssifier.polyssifier:Hard Voting               : Train 0.87\n",
      "INFO:polyssifier.polyssifier:Soft Voting               : Train 0.86\n",
      "INFO:polyssifier.polyssifier:Hard Voting               : Test 0.91\n",
      "INFO:polyssifier.polyssifier:Naive Bayes               : Test 0.91\n",
      "INFO:polyssifier.polyssifier:Nearest Neighbors         : Test 0.78\n",
      "INFO:polyssifier.polyssifier:Soft Voting               : Test 0.91\n",
      "INFO:polyssifier.polyssifier:Random Forest             : Test 0.80\n",
      "INFO:polyssifier.polyssifier:SVM                       : Test 0.96\n",
      "INFO:polyssifier.polyssifier:Multilayer Perceptron     : Test 0.98\n",
      "INFO:polyssifier.polyssifier:Logistic Regression       : Test 0.89\n",
      "INFO:polyssifier.polyssifier:Decision Tree             : Test 0.87\n",
      "INFO:polyssifier.polyssifier:Fold 3\n",
      "INFO:polyssifier.polyssifier:Loading models/Random Forest_3.p\n",
      "INFO:polyssifier.polyssifier:Random Forest            :  Train 0.79, 0.00 sec\n",
      "INFO:polyssifier.polyssifier:Loading models/Nearest Neighbors_3.p\n",
      "INFO:polyssifier.polyssifier:Nearest Neighbors        :  Train 0.82, 0.00 sec\n",
      "INFO:polyssifier.polyssifier:Loading models/Naive Bayes_3.p\n",
      "INFO:polyssifier.polyssifier:Naive Bayes              :  Train 0.85, 0.00 sec\n",
      "INFO:polyssifier.polyssifier:Running SVM\n"
     ]
    },
    {
     "name": "stdout",
     "output_type": "stream",
     "text": [
      "Model:[50, 25.0, 12.0, 1]\n",
      "l1: 0, drop: 0, lr: 1, patience: 500\n"
     ]
    },
    {
     "name": "stderr",
     "output_type": "stream",
     "text": [
      "INFO:polyssifier.polyssifier:SVM                      :  Train 0.91, 0.25 sec\n",
      "INFO:polyssifier.polyssifier:Running Multilayer Perceptron\n",
      "INFO:polyssifier.polyssifier:Multilayer Perceptron    :  Train 0.93, 8.78 sec\n",
      "INFO:polyssifier.polyssifier:Loading models/Logistic Regression_3.p\n",
      "INFO:polyssifier.polyssifier:Logistic Regression      :  Train 0.84, 0.00 sec\n",
      "INFO:polyssifier.polyssifier:Loading models/Decision Tree_3.p\n",
      "INFO:polyssifier.polyssifier:Decision Tree            :  Train 0.78, 0.00 sec\n",
      "INFO:polyssifier.polyssifier:Running Voting Classifier\n",
      "INFO:polyssifier.polyssifier:Hard Voting               : Train 0.86\n",
      "INFO:polyssifier.polyssifier:Soft Voting               : Train 0.87\n",
      "INFO:polyssifier.polyssifier:Hard Voting               : Test 0.83\n",
      "INFO:polyssifier.polyssifier:Naive Bayes               : Test 0.83\n",
      "INFO:polyssifier.polyssifier:Nearest Neighbors         : Test 0.78\n",
      "INFO:polyssifier.polyssifier:Soft Voting               : Test 0.87\n",
      "INFO:polyssifier.polyssifier:Random Forest             : Test 0.83\n",
      "INFO:polyssifier.polyssifier:SVM                       : Test 0.87\n",
      "INFO:polyssifier.polyssifier:Multilayer Perceptron     : Test 0.92\n",
      "INFO:polyssifier.polyssifier:Logistic Regression       : Test 0.85\n",
      "INFO:polyssifier.polyssifier:Decision Tree             : Test 0.77\n",
      "INFO:polyssifier.polyssifier:Fold 4\n",
      "INFO:polyssifier.polyssifier:Loading models/Random Forest_4.p\n",
      "INFO:polyssifier.polyssifier:Random Forest            :  Train 0.82, 0.00 sec\n",
      "INFO:polyssifier.polyssifier:Loading models/Nearest Neighbors_4.p\n",
      "INFO:polyssifier.polyssifier:Nearest Neighbors        :  Train 0.82, 0.00 sec\n",
      "INFO:polyssifier.polyssifier:Loading models/Naive Bayes_4.p\n",
      "INFO:polyssifier.polyssifier:Naive Bayes              :  Train 0.86, 0.00 sec\n",
      "INFO:polyssifier.polyssifier:Running SVM\n"
     ]
    },
    {
     "name": "stdout",
     "output_type": "stream",
     "text": [
      "Model:[50, 25.0, 12.0, 1]\n",
      "l1: 0, drop: 0, lr: 1, patience: 500\n"
     ]
    },
    {
     "name": "stderr",
     "output_type": "stream",
     "text": [
      "INFO:polyssifier.polyssifier:SVM                      :  Train 0.91, 0.25 sec\n",
      "INFO:polyssifier.polyssifier:Running Multilayer Perceptron\n",
      "INFO:polyssifier.polyssifier:Multilayer Perceptron    :  Train 0.92, 9.37 sec\n",
      "INFO:polyssifier.polyssifier:Loading models/Logistic Regression_4.p\n",
      "INFO:polyssifier.polyssifier:Logistic Regression      :  Train 0.86, 0.00 sec\n",
      "INFO:polyssifier.polyssifier:Loading models/Decision Tree_4.p\n",
      "INFO:polyssifier.polyssifier:Decision Tree            :  Train 0.84, 0.00 sec\n",
      "INFO:polyssifier.polyssifier:Running Voting Classifier\n",
      "INFO:polyssifier.polyssifier:Hard Voting               : Train 0.88\n",
      "INFO:polyssifier.polyssifier:Soft Voting               : Train 0.88\n",
      "INFO:polyssifier.polyssifier:Hard Voting               : Test 0.78\n",
      "INFO:polyssifier.polyssifier:Naive Bayes               : Test 0.75\n",
      "INFO:polyssifier.polyssifier:Nearest Neighbors         : Test 0.71\n",
      "INFO:polyssifier.polyssifier:Soft Voting               : Test 0.82\n",
      "INFO:polyssifier.polyssifier:Random Forest             : Test 0.68\n",
      "INFO:polyssifier.polyssifier:SVM                       : Test 0.91\n",
      "INFO:polyssifier.polyssifier:Multilayer Perceptron     : Test 0.93\n",
      "INFO:polyssifier.polyssifier:Logistic Regression       : Test 0.75\n",
      "INFO:polyssifier.polyssifier:Decision Tree             : Test 0.69\n",
      "INFO:polyssifier.polyssifier:Fold 5\n",
      "INFO:polyssifier.polyssifier:Loading models/Random Forest_5.p\n",
      "INFO:polyssifier.polyssifier:Random Forest            :  Train 0.78, 0.01 sec\n",
      "INFO:polyssifier.polyssifier:Loading models/Nearest Neighbors_5.p\n",
      "INFO:polyssifier.polyssifier:Nearest Neighbors        :  Train 0.81, 0.00 sec\n",
      "INFO:polyssifier.polyssifier:Loading models/Naive Bayes_5.p\n",
      "INFO:polyssifier.polyssifier:Naive Bayes              :  Train 0.85, 0.00 sec\n",
      "INFO:polyssifier.polyssifier:Running SVM\n"
     ]
    },
    {
     "name": "stdout",
     "output_type": "stream",
     "text": [
      "Model:[50, 25.0, 12.0, 1]\n",
      "l1: 0, drop: 0, lr: 1, patience: 500\n"
     ]
    },
    {
     "name": "stderr",
     "output_type": "stream",
     "text": [
      "INFO:polyssifier.polyssifier:SVM                      :  Train 0.91, 0.25 sec\n",
      "INFO:polyssifier.polyssifier:Running Multilayer Perceptron\n",
      "INFO:polyssifier.polyssifier:Multilayer Perceptron    :  Train 0.93, 8.25 sec\n",
      "INFO:polyssifier.polyssifier:Loading models/Logistic Regression_5.p\n",
      "INFO:polyssifier.polyssifier:Logistic Regression      :  Train 0.85, 0.00 sec\n",
      "INFO:polyssifier.polyssifier:Loading models/Decision Tree_5.p\n",
      "INFO:polyssifier.polyssifier:Decision Tree            :  Train 0.81, 0.00 sec\n",
      "INFO:polyssifier.polyssifier:Running Voting Classifier\n",
      "INFO:polyssifier.polyssifier:Hard Voting               : Train 0.87\n",
      "INFO:polyssifier.polyssifier:Soft Voting               : Train 0.87\n",
      "INFO:polyssifier.polyssifier:Hard Voting               : Test 0.87\n",
      "INFO:polyssifier.polyssifier:Naive Bayes               : Test 0.81\n",
      "INFO:polyssifier.polyssifier:Nearest Neighbors         : Test 0.79\n",
      "INFO:polyssifier.polyssifier:Soft Voting               : Test 0.87\n",
      "INFO:polyssifier.polyssifier:Random Forest             : Test 0.71\n",
      "INFO:polyssifier.polyssifier:SVM                       : Test 0.92\n",
      "INFO:polyssifier.polyssifier:Multilayer Perceptron     : Test 0.85\n",
      "INFO:polyssifier.polyssifier:Logistic Regression       : Test 0.81\n",
      "INFO:polyssifier.polyssifier:Decision Tree             : Test 0.80\n",
      "INFO:polyssifier.polyssifier:Fold 6\n",
      "INFO:polyssifier.polyssifier:Loading models/Random Forest_6.p\n",
      "INFO:polyssifier.polyssifier:Random Forest            :  Train 0.77, 0.01 sec\n",
      "INFO:polyssifier.polyssifier:Loading models/Nearest Neighbors_6.p\n",
      "INFO:polyssifier.polyssifier:Nearest Neighbors        :  Train 0.81, 0.00 sec\n",
      "INFO:polyssifier.polyssifier:Loading models/Naive Bayes_6.p\n",
      "INFO:polyssifier.polyssifier:Naive Bayes              :  Train 0.85, 0.00 sec\n",
      "INFO:polyssifier.polyssifier:Running SVM\n"
     ]
    },
    {
     "name": "stdout",
     "output_type": "stream",
     "text": [
      "Model:[50, 25.0, 12.0, 1]\n",
      "l1: 0, drop: 0, lr: 1, patience: 500\n"
     ]
    },
    {
     "name": "stderr",
     "output_type": "stream",
     "text": [
      "INFO:polyssifier.polyssifier:SVM                      :  Train 0.92, 0.26 sec\n",
      "INFO:polyssifier.polyssifier:Running Multilayer Perceptron\n",
      "INFO:polyssifier.polyssifier:Multilayer Perceptron    :  Train 0.93, 8.56 sec\n",
      "INFO:polyssifier.polyssifier:Loading models/Logistic Regression_6.p\n",
      "INFO:polyssifier.polyssifier:Logistic Regression      :  Train 0.85, 0.00 sec\n",
      "INFO:polyssifier.polyssifier:Loading models/Decision Tree_6.p\n",
      "INFO:polyssifier.polyssifier:Decision Tree            :  Train 0.78, 0.00 sec\n",
      "INFO:polyssifier.polyssifier:Running Voting Classifier\n",
      "INFO:polyssifier.polyssifier:Hard Voting               : Train 0.86\n",
      "INFO:polyssifier.polyssifier:Soft Voting               : Train 0.87\n",
      "INFO:polyssifier.polyssifier:Hard Voting               : Test 0.86\n",
      "INFO:polyssifier.polyssifier:Naive Bayes               : Test 0.82\n",
      "INFO:polyssifier.polyssifier:Nearest Neighbors         : Test 0.86\n",
      "INFO:polyssifier.polyssifier:Soft Voting               : Test 0.88\n",
      "INFO:polyssifier.polyssifier:Random Forest             : Test 0.84\n",
      "INFO:polyssifier.polyssifier:SVM                       : Test 0.90\n",
      "INFO:polyssifier.polyssifier:Multilayer Perceptron     : Test 0.91\n",
      "INFO:polyssifier.polyssifier:Logistic Regression       : Test 0.82\n",
      "INFO:polyssifier.polyssifier:Decision Tree             : Test 0.79\n",
      "INFO:polyssifier.polyssifier:Fold 7\n",
      "INFO:polyssifier.polyssifier:Loading models/Random Forest_7.p\n",
      "INFO:polyssifier.polyssifier:Random Forest            :  Train 0.83, 0.00 sec\n",
      "INFO:polyssifier.polyssifier:Loading models/Nearest Neighbors_7.p\n",
      "INFO:polyssifier.polyssifier:Nearest Neighbors        :  Train 0.81, 0.00 sec\n",
      "INFO:polyssifier.polyssifier:Loading models/Naive Bayes_7.p\n",
      "INFO:polyssifier.polyssifier:Naive Bayes              :  Train 0.85, 0.00 sec\n",
      "INFO:polyssifier.polyssifier:Running SVM\n"
     ]
    },
    {
     "name": "stdout",
     "output_type": "stream",
     "text": [
      "Model:[50, 25.0, 12.0, 1]\n",
      "l1: 0, drop: 0, lr: 1, patience: 500\n"
     ]
    },
    {
     "name": "stderr",
     "output_type": "stream",
     "text": [
      "INFO:polyssifier.polyssifier:SVM                      :  Train 0.92, 0.26 sec\n",
      "INFO:polyssifier.polyssifier:Running Multilayer Perceptron\n",
      "INFO:polyssifier.polyssifier:Multilayer Perceptron    :  Train 0.94, 8.09 sec\n",
      "INFO:polyssifier.polyssifier:Loading models/Logistic Regression_7.p\n",
      "INFO:polyssifier.polyssifier:Logistic Regression      :  Train 0.84, 0.00 sec\n",
      "INFO:polyssifier.polyssifier:Loading models/Decision Tree_7.p\n",
      "INFO:polyssifier.polyssifier:Decision Tree            :  Train 0.76, 0.00 sec\n",
      "INFO:polyssifier.polyssifier:Running Voting Classifier\n",
      "INFO:polyssifier.polyssifier:Hard Voting               : Train 0.86\n",
      "INFO:polyssifier.polyssifier:Soft Voting               : Train 0.87\n",
      "INFO:polyssifier.polyssifier:Hard Voting               : Test 0.86\n",
      "INFO:polyssifier.polyssifier:Naive Bayes               : Test 0.83\n",
      "INFO:polyssifier.polyssifier:Nearest Neighbors         : Test 0.80\n",
      "INFO:polyssifier.polyssifier:Soft Voting               : Test 0.83\n",
      "INFO:polyssifier.polyssifier:Random Forest             : Test 0.81\n",
      "INFO:polyssifier.polyssifier:SVM                       : Test 0.85\n",
      "INFO:polyssifier.polyssifier:Multilayer Perceptron     : Test 0.88\n",
      "INFO:polyssifier.polyssifier:Logistic Regression       : Test 0.80\n",
      "INFO:polyssifier.polyssifier:Decision Tree             : Test 0.75\n",
      "INFO:polyssifier.polyssifier:Fold 8\n",
      "INFO:polyssifier.polyssifier:Loading models/Random Forest_8.p\n",
      "INFO:polyssifier.polyssifier:Random Forest            :  Train 0.78, 0.00 sec\n",
      "INFO:polyssifier.polyssifier:Loading models/Nearest Neighbors_8.p\n",
      "INFO:polyssifier.polyssifier:Nearest Neighbors        :  Train 0.81, 0.00 sec\n",
      "INFO:polyssifier.polyssifier:Loading models/Naive Bayes_8.p\n",
      "INFO:polyssifier.polyssifier:Naive Bayes              :  Train 0.84, 0.00 sec\n",
      "INFO:polyssifier.polyssifier:Running SVM\n"
     ]
    },
    {
     "name": "stdout",
     "output_type": "stream",
     "text": [
      "Model:[50, 25.0, 12.0, 1]\n",
      "l1: 0, drop: 0, lr: 1, patience: 500\n"
     ]
    },
    {
     "name": "stderr",
     "output_type": "stream",
     "text": [
      "INFO:polyssifier.polyssifier:SVM                      :  Train 0.91, 0.26 sec\n",
      "INFO:polyssifier.polyssifier:Running Multilayer Perceptron\n",
      "INFO:polyssifier.polyssifier:Multilayer Perceptron    :  Train 0.93, 9.10 sec\n",
      "INFO:polyssifier.polyssifier:Loading models/Logistic Regression_8.p\n",
      "INFO:polyssifier.polyssifier:Logistic Regression      :  Train 0.83, 0.00 sec\n",
      "INFO:polyssifier.polyssifier:Loading models/Decision Tree_8.p\n",
      "INFO:polyssifier.polyssifier:Decision Tree            :  Train 0.78, 0.00 sec\n",
      "INFO:polyssifier.polyssifier:Running Voting Classifier\n",
      "INFO:polyssifier.polyssifier:Hard Voting               : Train 0.86\n",
      "INFO:polyssifier.polyssifier:Soft Voting               : Train 0.86\n",
      "INFO:polyssifier.polyssifier:Hard Voting               : Test 0.90\n",
      "INFO:polyssifier.polyssifier:Naive Bayes               : Test 0.90\n",
      "INFO:polyssifier.polyssifier:Nearest Neighbors         : Test 0.90\n",
      "INFO:polyssifier.polyssifier:Soft Voting               : Test 0.90\n",
      "INFO:polyssifier.polyssifier:Random Forest             : Test 0.83\n",
      "INFO:polyssifier.polyssifier:SVM                       : Test 0.94\n",
      "INFO:polyssifier.polyssifier:Multilayer Perceptron     : Test 0.93\n",
      "INFO:polyssifier.polyssifier:Logistic Regression       : Test 0.90\n",
      "INFO:polyssifier.polyssifier:Decision Tree             : Test 0.81\n",
      "INFO:polyssifier.polyssifier:Fold 9\n",
      "INFO:polyssifier.polyssifier:Loading models/Random Forest_9.p\n",
      "INFO:polyssifier.polyssifier:Random Forest            :  Train 0.81, 0.01 sec\n",
      "INFO:polyssifier.polyssifier:Loading models/Nearest Neighbors_9.p\n",
      "INFO:polyssifier.polyssifier:Nearest Neighbors        :  Train 0.81, 0.00 sec\n",
      "INFO:polyssifier.polyssifier:Loading models/Naive Bayes_9.p\n",
      "INFO:polyssifier.polyssifier:Naive Bayes              :  Train 0.85, 0.00 sec\n",
      "INFO:polyssifier.polyssifier:Running SVM\n"
     ]
    },
    {
     "name": "stdout",
     "output_type": "stream",
     "text": [
      "Model:[50, 25.0, 12.0, 1]\n",
      "l1: 0, drop: 0, lr: 1, patience: 500\n"
     ]
    },
    {
     "name": "stderr",
     "output_type": "stream",
     "text": [
      "INFO:polyssifier.polyssifier:SVM                      :  Train 0.92, 0.27 sec\n",
      "INFO:polyssifier.polyssifier:Running Multilayer Perceptron\n",
      "INFO:polyssifier.polyssifier:Multilayer Perceptron    :  Train 0.93, 12.89 sec\n",
      "INFO:polyssifier.polyssifier:Loading models/Logistic Regression_9.p\n",
      "INFO:polyssifier.polyssifier:Logistic Regression      :  Train 0.85, 0.00 sec\n",
      "INFO:polyssifier.polyssifier:Loading models/Decision Tree_9.p\n",
      "INFO:polyssifier.polyssifier:Decision Tree            :  Train 0.80, 0.00 sec\n",
      "INFO:polyssifier.polyssifier:Running Voting Classifier\n",
      "INFO:polyssifier.polyssifier:Hard Voting               : Train 0.87\n",
      "INFO:polyssifier.polyssifier:Soft Voting               : Train 0.86\n",
      "INFO:polyssifier.polyssifier:Hard Voting               : Test 0.85\n",
      "INFO:polyssifier.polyssifier:Naive Bayes               : Test 0.85\n",
      "INFO:polyssifier.polyssifier:Nearest Neighbors         : Test 0.78\n",
      "INFO:polyssifier.polyssifier:Soft Voting               : Test 0.81\n",
      "INFO:polyssifier.polyssifier:Random Forest             : Test 0.82\n",
      "INFO:polyssifier.polyssifier:SVM                       : Test 0.88\n",
      "INFO:polyssifier.polyssifier:Multilayer Perceptron     : Test 0.90\n",
      "INFO:polyssifier.polyssifier:Logistic Regression       : Test 0.82\n",
      "INFO:polyssifier.polyssifier:Decision Tree             : Test 0.77\n",
      "INFO:polyssifier.polyssifier:Fold 10\n",
      "INFO:polyssifier.polyssifier:Loading models/Random Forest_10.p\n",
      "INFO:polyssifier.polyssifier:Random Forest            :  Train 0.80, 0.00 sec\n",
      "INFO:polyssifier.polyssifier:Loading models/Nearest Neighbors_10.p\n",
      "INFO:polyssifier.polyssifier:Nearest Neighbors        :  Train 0.82, 0.00 sec\n",
      "INFO:polyssifier.polyssifier:Loading models/Naive Bayes_10.p\n",
      "INFO:polyssifier.polyssifier:Naive Bayes              :  Train 0.84, 0.00 sec\n",
      "INFO:polyssifier.polyssifier:Running SVM\n"
     ]
    },
    {
     "name": "stdout",
     "output_type": "stream",
     "text": [
      "Model:[50, 25.0, 12.0, 1]\n",
      "l1: 0, drop: 0, lr: 1, patience: 500\n"
     ]
    },
    {
     "name": "stderr",
     "output_type": "stream",
     "text": [
      "INFO:polyssifier.polyssifier:SVM                      :  Train 0.91, 0.26 sec\n",
      "INFO:polyssifier.polyssifier:Running Multilayer Perceptron\n",
      "INFO:polyssifier.polyssifier:Multilayer Perceptron    :  Train 0.93, 9.96 sec\n",
      "INFO:polyssifier.polyssifier:Loading models/Logistic Regression_10.p\n",
      "INFO:polyssifier.polyssifier:Logistic Regression      :  Train 0.84, 0.00 sec\n",
      "INFO:polyssifier.polyssifier:Loading models/Decision Tree_10.p\n",
      "INFO:polyssifier.polyssifier:Decision Tree            :  Train 0.78, 0.00 sec\n",
      "INFO:polyssifier.polyssifier:Running Voting Classifier\n",
      "INFO:polyssifier.polyssifier:Hard Voting               : Train 0.86\n",
      "INFO:polyssifier.polyssifier:Soft Voting               : Train 0.86\n",
      "INFO:polyssifier.polyssifier:Hard Voting               : Test 0.94\n",
      "INFO:polyssifier.polyssifier:Naive Bayes               : Test 0.92\n",
      "INFO:polyssifier.polyssifier:Nearest Neighbors         : Test 0.87\n",
      "INFO:polyssifier.polyssifier:Soft Voting               : Test 0.94\n",
      "INFO:polyssifier.polyssifier:Random Forest             : Test 0.88\n",
      "INFO:polyssifier.polyssifier:SVM                       : Test 0.96\n",
      "INFO:polyssifier.polyssifier:Multilayer Perceptron     : Test 0.98\n",
      "INFO:polyssifier.polyssifier:Logistic Regression       : Test 0.90\n",
      "INFO:polyssifier.polyssifier:Decision Tree             : Test 0.86\n"
     ]
    },
    {
     "name": "stdout",
     "output_type": "stream",
     "text": [
      "Model:[50, 25.0, 12.0, 1]\n",
      "l1: 0, drop: 0, lr: 1, patience: 500\n"
     ]
    }
   ],
   "source": [
    "# single class example\n",
    "pol = Poly(data,label, n_folds=10, verbose=1, feature_selection=False)\n",
    "scores= pol.run()\n"
   ]
  },
  {
   "cell_type": "code",
   "execution_count": 5,
   "metadata": {
    "collapsed": false
   },
   "outputs": [
    {
     "data": {
      "text/plain": [
       "<matplotlib.axes._subplots.AxesSubplot at 0x7ff95b9bf1d0>"
      ]
     },
     "execution_count": 5,
     "metadata": {},
     "output_type": "execute_result"
    },
    {
     "data": {
      "image/png": "[encoded data removed]",
      "text/plain": [
       "<matplotlib.figure.Figure at 0x7ff92683b908>"
      ]
     },
     "metadata": {},
     "output_type": "display_data"
    }
   ],
   "source": [
    "pol.plot()"
   ]
  },
  {
   "cell_type": "code",
   "execution_count": null,
   "metadata": {
    "collapsed": true
   },
   "outputs": [],
   "source": []
  }
 ],
 "metadata": {
  "kernelspec": {
   "display_name": "Python 3",
   "language": "python",
   "name": "python3"
  },
  "language_info": {
   "codemirror_mode": {
    "name": "ipython",
    "version": 3
   },
   "file_extension": ".py",
   "mimetype": "text/x-python",
   "name": "python",
   "nbconvert_exporter": "python",
   "pygments_lexer": "ipython3",
   "version": "3.4.3"
  }
 },
 "nbformat": 4,
 "nbformat_minor": 0
}
